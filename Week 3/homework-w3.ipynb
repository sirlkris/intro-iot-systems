{
  "cells": [
    {
      "metadata": {
        "collapsed": true
      },
      "cell_type": "markdown",
      "source": "# BL40A2010 Introduction to IoT-Based Systems\n\n## Assignment 3, DD.MM.YYYY\n\n### Author: "
    },
    {
      "metadata": {},
      "cell_type": "markdown",
      "source": "**(1) Compute the following for a ring topology of $N\\geq3$ nodes considering that the network in unweighted and the links are directed. The result will give these number as a function of $N$.** "
    },
    {
      "metadata": {},
      "cell_type": "markdown",
      "source": "Answer:\n\n(a) Degree of nodes:\n\t\n(b) Adjacent matrix:\n\n(c) Diameter:\n\n(d) Clustering coefficient of the nodes:\n\n"
    },
    {
      "metadata": {},
      "cell_type": "markdown",
      "source": "**(2) Use NetworkX to draw and analyze a ring topology with 5 nodes. Verify if the results previously obtained are valid.**"
    },
    {
      "metadata": {
        "trusted": false
      },
      "cell_type": "code",
      "source": "",
      "execution_count": null,
      "outputs": []
    },
    {
      "metadata": {},
      "cell_type": "markdown",
      "source": "**(3) Analyze the ring topology with size 20 ($N=20$) as a communication network (i.e. how data travel to a point to another in the network) based on the node degree, the network diamenter and the cluster coefficient.**"
    },
    {
      "metadata": {},
      "cell_type": "markdown",
      "source": "Answer:"
    },
    {
      "metadata": {},
      "cell_type": "markdown",
      "source": "**(4) Consider the ring network from the previous question. The network performance depends on its diameter. As a designer, you can add one new node in the network (and an unlimited number of links that this node is part) . Justify your decision and evaluate how much better the network is. Generalize this finding as a function of $N$.**\n\n*Hint:*  Follow Exercise 1 approach to generalize the finding."
    },
    {
      "metadata": {},
      "cell_type": "markdown",
      "source": "Answer:"
    }
  ],
  "metadata": {
    "kernelspec": {
      "name": "python36",
      "display_name": "Python 3.6",
      "language": "python"
    },
    "language_info": {
      "mimetype": "text/x-python",
      "nbconvert_exporter": "python",
      "name": "python",
      "pygments_lexer": "ipython3",
      "version": "3.6.6",
      "file_extension": ".py",
      "codemirror_mode": {
        "version": 3,
        "name": "ipython"
      }
    }
  },
  "nbformat": 4,
  "nbformat_minor": 2
}
