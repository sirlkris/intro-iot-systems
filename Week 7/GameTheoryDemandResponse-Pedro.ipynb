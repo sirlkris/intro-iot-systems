{
  "cells": [
    {
      "metadata": {
        "trusted": true
      },
      "cell_type": "code",
      "source": "from sympy import *\ninit_printing(use_latex=\"mathjax\")",
      "execution_count": 1,
      "outputs": []
    },
    {
      "metadata": {
        "trusted": true
      },
      "cell_type": "code",
      "source": "p,alpha,beta,N,G = symbols(\"p alpha beta N G\")",
      "execution_count": 2,
      "outputs": []
    },
    {
      "metadata": {},
      "cell_type": "markdown",
      "source": "# Expressing a Demand Response Problem as a Game\n\nWe assume there are two action\n + Participate: **P**\n + Don‘t participate: **D**\n\nFurther the system might be of size **N**.\nThe payoff could look like so:\n$$f(n) = \\begin{cases} -\\alpha-\\beta (\\#P-G)^2 &\\mbox{if } P \\\\ \n-\\beta (\\#P-G)^2 & \\mbox{if } D \\end{cases}$$\n\nwhere $\\#P$ is the number of P played by all players and $G$ is the number of P players needed to solve the issue in the system.\n\n## Two Person Game\n\nFor a two player game we could then imageine three cases with $G=0,G=1$ and $G=2$.\n\nWe further assume $\\alpha=0.1$ and $\\beta=1$.\n\n$G=0$\n\n| |P|D|\n|-|-|\n|**P**|(-4.1 \\ -4.1)|(-1.1 \\ -1)|\n|**D**|(-1 \\ -1.1)|(0 \\ 0)*|\n\n$G=1$\n\n| |P|D|\n|-|-|\n|**P**|(-1.1 \\ -1.1)|(-0.1 \\ 0)*|\n|**D**|(0 \\ -0.1)*|(-1 \\ -1)|\n\n$G=2$\n\n| |P|D|\n|-|-|\n|**P**|(0 \\ 0)*|(-1.1 \\ -1)|\n|**D**|(-1 \\ -1.1)|(-4 \\ -4)|\n\nThe dominant strategies are market with *. As we can see for the first and the last case we have a pure Nash EQ. However the second case has a mixed EQ. "
    },
    {
      "metadata": {
        "collapsed": true,
        "trusted": false
      },
      "cell_type": "code",
      "source": "m_eq = p**2*-1.1 + p*(1-p)*-0.1 + (1-p)**2*-1",
      "execution_count": 4,
      "outputs": []
    },
    {
      "metadata": {
        "trusted": false
      },
      "cell_type": "code",
      "source": "solve(diff(m_eq,p),p)",
      "execution_count": 5,
      "outputs": [
        {
          "data": {
            "text/latex": "$$\\left [ 0.475\\right ]$$",
            "text/plain": "[0.475]"
          },
          "execution_count": 5,
          "metadata": {},
          "output_type": "execute_result"
        }
      ]
    },
    {
      "metadata": {
        "collapsed": true,
        "trusted": false
      },
      "cell_type": "code",
      "source": "m_eq_ext = p**2*(-beta-alpha) + p*(1-p)*-alpha + (1-p)**2*-beta",
      "execution_count": 6,
      "outputs": []
    },
    {
      "metadata": {
        "trusted": false
      },
      "cell_type": "code",
      "source": "p_m_ext = solve(diff(m_eq_ext,p),p)[0]\nexpand(p_m_ext)",
      "execution_count": 7,
      "outputs": [
        {
          "data": {
            "text/latex": "$$- \\frac{\\alpha}{4 \\beta} + \\frac{1}{2}$$",
            "text/plain": "   α    1\n- ─── + ─\n  4⋅β   2"
          },
          "execution_count": 7,
          "metadata": {},
          "output_type": "execute_result"
        }
      ]
    },
    {
      "metadata": {
        "trusted": false
      },
      "cell_type": "code",
      "source": "p_m_ext .replace(beta,1)",
      "execution_count": 8,
      "outputs": [
        {
          "data": {
            "text/latex": "$$- \\frac{\\alpha}{4} + \\frac{1}{2}$$",
            "text/plain": "  α   1\n- ─ + ─\n  4   2"
          },
          "execution_count": 8,
          "metadata": {},
          "output_type": "execute_result"
        }
      ]
    },
    {
      "metadata": {
        "trusted": false
      },
      "cell_type": "code",
      "source": "p_m_ext .replace(beta,1).replace(alpha,0.1)",
      "execution_count": 9,
      "outputs": [
        {
          "data": {
            "text/latex": "$$0.475$$",
            "text/plain": "0.475000000000000"
          },
          "execution_count": 9,
          "metadata": {},
          "output_type": "execute_result"
        }
      ]
    },
    {
      "metadata": {},
      "cell_type": "markdown",
      "source": "## (1+N)-person Game\n\nThe expected output for one player given the uncertainty about the other $N$ players, but knowing that they participate with probability $p$ and don't with probability $1-p$:\n\n$U(p) = p\\;(- \\alpha - \\beta \\; \\mathbb{E}[(X-G)^2]) - (1-p) \\; \\beta \\; \\mathbb{E}[(X-G)^2]$,\n\nwhere $X \\sim \\mathrm{Binomial}(x;N,p)$ is a random variable that follows a binomial distribution.\n\nTo make the derivation of the best $p$, we need to the first and the second moments.\n\n- $\\mathbb{E}[X] = p\\;N$\n\n- $\\mathbb{E}[X^2] = p\\;N \\;(1-p+p\\;N)$.\n\nWe need to write $U(p)$ in terms of these moments and then find $dU(p)/dp = 0$."
    },
    {
      "metadata": {
        "trusted": false
      },
      "cell_type": "code",
      "source": "n_eq2 = (alpha + beta*N - 2*G*beta*N) / (2*beta*N*(1-N))\nn_eq2",
      "execution_count": 10,
      "outputs": [
        {
          "data": {
            "text/latex": "$$\\frac{- 2 G N \\beta + N \\beta + \\alpha}{2 N \\beta \\left(- N + 1\\right)}$$",
            "text/plain": "-2⋅G⋅N⋅β + N⋅β + α\n──────────────────\n  2⋅N⋅β⋅(-N + 1)  "
          },
          "execution_count": 10,
          "metadata": {},
          "output_type": "execute_result"
        }
      ]
    },
    {
      "metadata": {
        "trusted": false
      },
      "cell_type": "code",
      "source": "n_eq2.replace(N,5).replace(G,3).replace(beta,10).replace(alpha,0.4)",
      "execution_count": 16,
      "outputs": [
        {
          "data": {
            "text/latex": "$$0.624$$",
            "text/plain": "0.624000000000000"
          },
          "execution_count": 16,
          "metadata": {},
          "output_type": "execute_result"
        }
      ]
    },
    {
      "metadata": {
        "collapsed": true,
        "trusted": false
      },
      "cell_type": "code",
      "source": "",
      "execution_count": null,
      "outputs": []
    }
  ],
  "metadata": {
    "kernelspec": {
      "name": "python3",
      "display_name": "Python 3",
      "language": "python"
    },
    "language_info": {
      "mimetype": "text/x-python",
      "nbconvert_exporter": "python",
      "name": "python",
      "file_extension": ".py",
      "version": "3.5.4",
      "pygments_lexer": "ipython3",
      "codemirror_mode": {
        "version": 3,
        "name": "ipython"
      }
    }
  },
  "nbformat": 4,
  "nbformat_minor": 2
}